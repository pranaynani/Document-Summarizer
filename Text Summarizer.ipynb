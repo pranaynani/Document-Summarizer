{
 "cells": [
  {
   "cell_type": "code",
   "execution_count": 1,
   "id": "afc648d7-6099-4fb9-9a1e-7e81ebbab61c",
   "metadata": {},
   "outputs": [],
   "source": [
    "import torch\n",
    "from transformers import BartTokenizer, BartForConditionalGeneration\n",
    "from datasets import load_dataset\n",
    "from sklearn.model_selection import train_test_split\n",
    "from rouge_score import rouge_scorer\n",
    "from torch.cuda.amp import GradScaler, autocast"
   ]
  },
  {
   "cell_type": "code",
   "execution_count": 2,
   "id": "6c0a5f0a-cb6a-47d6-832b-c0a2019981f4",
   "metadata": {},
   "outputs": [],
   "source": [
    "from tqdm import tqdm"
   ]
  },
  {
   "cell_type": "code",
   "execution_count": 3,
   "id": "e89506b1-4193-40be-a1fa-86a6f0880ec8",
   "metadata": {},
   "outputs": [
    {
     "name": "stdout",
     "output_type": "stream",
     "text": [
      "Using device: cuda\n"
     ]
    }
   ],
   "source": [
    "def check_gpu():\n",
    "    device = torch.device(\"cuda\" if torch.cuda.is_available() else \"cpu\")\n",
    "    print(f\"Using device: {device}\")\n",
    "    return device\n",
    "\n",
    "device = check_gpu()"
   ]
  },
  {
   "cell_type": "code",
   "execution_count": 4,
   "id": "426a3f4f-3a57-44e2-bdf0-03f8798cdd9d",
   "metadata": {},
   "outputs": [],
   "source": [
    "\n",
    "# Step 1: Load and Prepare Data\n",
    "def load_and_clean_data(dataset_name, subset=None, sample_size=10000):\n",
    "    print(f\"Loading {dataset_name} dataset...\")\n",
    "    dataset = load_dataset(dataset_name, subset) if subset else load_dataset(dataset_name)\n",
    "\n",
    "    # Take a random sample\n",
    "    if 'train' in dataset:\n",
    "        dataset['train'] = dataset['train'].shuffle(seed=42).select(range(min(sample_size, len(dataset['train']))))\n",
    "\n",
    "    # Cleaning (Example: Remove long documents and normalize text)\n",
    "    def clean_text(example):\n",
    "        if 'document' in example and 'summary' in example:\n",
    "            example['document'] = example['document'].replace(\"\\n\", \" \").strip()\n",
    "            example['summary'] = example['summary'].replace(\"\\n\", \" \").strip()\n",
    "        elif 'article' in example and 'highlights' in example:\n",
    "            example['article'] = example['article'].replace(\"\\n\", \" \").strip()\n",
    "            example['highlights'] = example['highlights'].replace(\"\\n\", \" \").strip()\n",
    "        return example\n",
    "\n",
    "    dataset = dataset.map(clean_text)\n",
    "    return dataset"
   ]
  },
  {
   "cell_type": "code",
   "execution_count": 5,
   "id": "20354154-2549-4051-a0ca-76daf490f53e",
   "metadata": {},
   "outputs": [
    {
     "name": "stdout",
     "output_type": "stream",
     "text": [
      "Loading EdinburghNLP/xsum dataset...\n",
      "Loading cnn_dailymail dataset...\n"
     ]
    }
   ],
   "source": [
    "xsum_data = load_and_clean_data(\"EdinburghNLP/xsum\")\n",
    "cnn_data = load_and_clean_data(\"cnn_dailymail\", \"3.0.0\")"
   ]
  },
  {
   "cell_type": "code",
   "execution_count": 6,
   "id": "7f685871-0c96-4744-9574-1420b1ed9fac",
   "metadata": {},
   "outputs": [
    {
     "name": "stdout",
     "output_type": "stream",
     "text": [
      "XSum Dataset - Min: 0, Max: 6789,Avg: 290.00679922374235, Std Dev: 370.198\n",
      "XSum Dataset - Min: 1, Max: 52,Avg: 5.199118844573569, Std Dev: 21.1018\n",
      "CNN Dataset - Min: 37, Max: 1967,Avg: 336.0333807904209, Std Dev: 691.9384\n",
      "CNN Dataset - Min: 6, Max: 421,Avg: 20.40974947812932, Std Dev: 51.1932\n"
     ]
    }
   ],
   "source": [
    "# Function to calculate statistics\n",
    "import numpy as np\n",
    "def calculate_statistics(dataset, text_column):\n",
    "    lengths = [len(example[text_column].split()) for example in dataset]\n",
    "    min_length = np.min(lengths)\n",
    "    max_length = np.max(lengths)\n",
    "    std_dev = np.std(lengths)\n",
    "    avg_length = np.mean(lengths)\n",
    "    return min_length, max_length, std_dev, avg_length\n",
    "\n",
    "# For XSum dataset\n",
    "xsum_train = xsum_data[\"train\"]\n",
    "xsum_min, xsum_max, xsum_avg, xsum_std = calculate_statistics(xsum_train, \"document\")\n",
    "xsum_sum_min, xsum_sum_max, xsum_sum_avg, xsum_sum_std = calculate_statistics(xsum_train, \"summary\")\n",
    "print(f\"XSum Dataset - Min: {xsum_min}, Max: {xsum_max},Avg: {xsum_avg}, Std Dev: {xsum_std}\")\n",
    "print(f\"XSum Dataset - Min: {xsum_sum_min}, Max: {xsum_sum_max},Avg: {xsum_sum_avg}, Std Dev: {xsum_sum_std}\")\n",
    "\n",
    "# For CNN/DM dataset\n",
    "cnn_train = cnn_data[\"train\"]\n",
    "cnn_min, cnn_max, cnn_avg, cnn_std = calculate_statistics(cnn_train, \"article\")\n",
    "cnn_sum_min, cnn_sum_max, cnn_sum_avg, cnn_sum_std = calculate_statistics(cnn_train, \"highlights\")\n",
    "print(f\"CNN Dataset - Min: {cnn_min}, Max: {cnn_max},Avg: {cnn_avg}, Std Dev: {cnn_std}\")\n",
    "print(f\"CNN Dataset - Min: {cnn_sum_min}, Max: {cnn_sum_max},Avg: {cnn_sum_avg}, Std Dev: {cnn_sum_std}\")\n"
   ]
  },
  {
   "cell_type": "code",
   "execution_count": 7,
   "id": "2ad00467-2667-40ae-84a2-94213154f0db",
   "metadata": {},
   "outputs": [],
   "source": [
    "# Load datasets\n",
    "xsum_dataset = load_dataset(\"EdinburghNLP/xsum\")['train']  # Load the training split\n",
    "cnn_dataset = load_dataset(\"cnn_dailymail\", \"3.0.0\")['train']  # Load the training split\n",
    "cnn_dataset_validation = load_dataset(\"cnn_dailymail\", \"3.0.0\")['validation']  # Load the training split\n"
   ]
  },
  {
   "cell_type": "code",
   "execution_count": 8,
   "id": "3a686e1f-a0d2-41b7-8003-691c225dfc7b",
   "metadata": {},
   "outputs": [],
   "source": [
    "# Step 2: Split Data\n",
    "def split_dataset(dataset, text_column, summary_column):\n",
    "    data = [{\"text\": example[text_column], \"summary\": example[summary_column]} for example in dataset]\n",
    "    train_data, val_data = train_test_split(data, test_size=0.2, random_state=42)\n",
    "    print(f\"Training samples: {len(train_data)}, Validation samples: {len(val_data)}\")\n",
    "    return train_data, val_data"
   ]
  },
  {
   "cell_type": "code",
   "execution_count": 9,
   "id": "c8d5c093-dbb3-4e07-acdd-68e9007e11d7",
   "metadata": {},
   "outputs": [
    {
     "name": "stdout",
     "output_type": "stream",
     "text": [
      "Training samples: 8000, Validation samples: 2000\n",
      "Training samples: 8000, Validation samples: 2000\n"
     ]
    }
   ],
   "source": [
    "xsum_train, xsum_val = split_dataset(xsum_data['train'], 'document', 'summary')\n",
    "cnn_train, cnn_val = split_dataset(cnn_data['train'], 'article', 'highlights')\n"
   ]
  },
  {
   "cell_type": "code",
   "execution_count": 10,
   "id": "3dc72bd2-ddac-4206-97d7-645311f68d95",
   "metadata": {},
   "outputs": [],
   "source": [
    "# Combine datasets for training and validation\n",
    "train_data = xsum_train + cnn_train\n",
    "val_data = xsum_val + cnn_val"
   ]
  },
  {
   "cell_type": "code",
   "execution_count": 11,
   "id": "83864bfb-8d05-43b1-9b60-da881684515d",
   "metadata": {},
   "outputs": [],
   "source": [
    "import matplotlib.pyplot as plt"
   ]
  },
  {
   "cell_type": "code",
   "execution_count": 48,
   "id": "8472ef16-4275-49f1-aee7-e76499154f1d",
   "metadata": {},
   "outputs": [
    {
     "data": {
      "image/png": "[encoded data removed]",
      "text/plain": [
       "<Figure size 1200x600 with 1 Axes>"
      ]
     },
     "metadata": {},
     "output_type": "display_data"
    },
    {
     "data": {
      "image/png": "[encoded data removed]",
      "text/plain": [
       "<Figure size 1200x600 with 1 Axes>"
      ]
     },
     "metadata": {},
     "output_type": "display_data"
    }
   ],
   "source": [
    "# Step 3: Exploratory Data Analysis\n",
    "def plot_length_distributions(data, text_column, summary_column, dataset_name):\n",
    "    article_lengths = [len(d[text_column].split()) for d in data]\n",
    "    summary_lengths = [len(d[summary_column].split()) for d in data]\n",
    "\n",
    "    plt.figure(figsize=(12, 6))\n",
    "    plt.hist(article_lengths, bins=50, alpha=0.7, label=\"Articles\")\n",
    "    plt.hist(summary_lengths, bins=50, alpha=0.7, label=\"Summaries\")\n",
    "    plt.title(f\"Length Distribution in {dataset_name}\")\n",
    "    plt.xlabel(\"Number of Words\")\n",
    "    plt.ylabel(\"Frequency\")\n",
    "    plt.legend()\n",
    "    plt.show()\n",
    "\n",
    "plot_length_distributions(xsum_train, \"text\", \"summary\", \"XSum\")\n",
    "plot_length_distributions(cnn_data['train'], 'article', 'highlights', \"CNN/DailyMail\")"
   ]
  },
  {
   "cell_type": "code",
   "execution_count": 12,
   "id": "1d76ae4c-7d08-4d5e-8f46-44dd702d5f24",
   "metadata": {},
   "outputs": [
    {
     "data": {
      "image/png": "[encoded data removed]",
      "text/plain": [
       "<Figure size 800x500 with 1 Axes>"
      ]
     },
     "metadata": {},
     "output_type": "display_data"
    }
   ],
   "source": [
    "# Function to plot dataset distribution\n",
    "def plot_dataset_distribution(data_sizes, dataset_names):\n",
    "    plt.figure(figsize=(8, 5))\n",
    "    plt.bar(dataset_names, data_sizes, color=\"skyblue\")\n",
    "    plt.title(\"Dataset Distribution\")\n",
    "    plt.xlabel(\"Dataset\")\n",
    "    plt.ylabel(\"Number of Samples\")\n",
    "    plt.xticks(rotation=45)  # Rotate x-axis labels for better readability\n",
    "    plt.show()\n",
    "\n",
    "# Get accurate counts\n",
    "data_sizes = [len(xsum_dataset), len(cnn_dataset)]\n",
    "dataset_names = [\"XSum\", \"CNN/DailyMail\"]\n",
    "\n",
    "# Plot the distribution\n",
    "plot_dataset_distribution(data_sizes, dataset_names)"
   ]
  },
  {
   "cell_type": "code",
   "execution_count": 18,
   "id": "05497fcb-f584-46fb-abd3-ac0f2364cd70",
   "metadata": {},
   "outputs": [],
   "source": [
    "# Step 3: Tokenization\n",
    "def tokenize_data(data, tokenizer):\n",
    "    def preprocess(example):\n",
    "        inputs = tokenizer(example['text'], max_length=1024, truncation=True, return_tensors=\"pt\")\n",
    "        labels = tokenizer(example['summary'], max_length=128, truncation=True, return_tensors=\"pt\")\n",
    "        return {\"input_ids\": inputs['input_ids'], \"attention_mask\": inputs['attention_mask'], \"labels\": labels['input_ids']}\n",
    "\n",
    "    tokenized_data = [preprocess(example) for example in data]\n",
    "    return tokenized_data"
   ]
  },
  {
   "cell_type": "code",
   "execution_count": 19,
   "id": "fe597ca7-41f2-47d7-8284-3d481fc3969a",
   "metadata": {},
   "outputs": [
    {
     "name": "stdout",
     "output_type": "stream",
     "text": [
      "Loading tokenizer...\n"
     ]
    }
   ],
   "source": [
    "print(\"Loading tokenizer...\")\n",
    "model_name = \"facebook/bart-base\"\n",
    "tokenizer = BartTokenizer.from_pretrained(model_name)\n",
    "\n",
    "train_tokenized = tokenize_data(train_data, tokenizer)\n",
    "val_tokenized = tokenize_data(val_data, tokenizer)"
   ]
  },
  {
   "cell_type": "code",
   "execution_count": 188,
   "id": "7ab5e620-1d8c-47fe-baa5-08315b573899",
   "metadata": {},
   "outputs": [],
   "source": [
    "import time"
   ]
  },
  {
   "cell_type": "code",
   "execution_count": 189,
   "id": "777f1c04-bba8-49f4-be2e-d424b41383dc",
   "metadata": {},
   "outputs": [],
   "source": [
    "from torch.utils.data import DataLoader"
   ]
  },
  {
   "cell_type": "code",
   "execution_count": 199,
   "id": "71a0a4fc-a512-45d7-9d2b-211acec3fb4e",
   "metadata": {},
   "outputs": [],
   "source": [
    "# Step 4: Train Model\n",
    "def train_model(train_tokenized, val_tokenized):\n",
    "    model = BartForConditionalGeneration.from_pretrained(model_name).to(device)\n",
    "\n",
    "    optimizer = torch.optim.AdamW(model.parameters(), lr=1e-5)\n",
    "    scaler = GradScaler()  # Mixed precision training\n",
    "    num_epochs = 20\n",
    "    train_losses = []\n",
    "    val_losses = []\n",
    "     # Define accumulation steps\n",
    "    accumulation_steps = 4\n",
    "    batch_size = 16\n",
    "    train_loader = DataLoader(train_tokenized,batch_size=batch_size ,shuffle=True, num_workers=4)\n",
    "\n",
    "    for epoch in range(num_epochs):\n",
    "        start_time = time.time()  # Start time for the epoch\n",
    "        print(f\"Epoch {epoch+1}/{num_epochs}\")\n",
    "        model.train()\n",
    "        epoch_loss = 0.0\n",
    "        # Create a progress bar for the training batches\n",
    "        progress_bar = tqdm(train_tokenized, desc=f\"Training Epoch {epoch + 1}\", unit=\"batch\")\n",
    "        for i, batch in enumerate(progress_bar):\n",
    "            input_ids = batch['input_ids'].to(device)\n",
    "            attention_mask = batch['attention_mask'].to(device)\n",
    "            labels = batch['labels'].to(device)\n",
    "\n",
    "            outputs = model(input_ids=input_ids, attention_mask=attention_mask, labels=labels)\n",
    "            loss = outputs.loss\n",
    "            epoch_loss += loss.item()\n",
    "            scaler.scale(loss).backward()\n",
    "            if (i + 1) % accumulation_steps == 0:\n",
    "                scaler.step(optimizer)\n",
    "                scaler.update()\n",
    "                optimizer.zero_grad()\n",
    "\n",
    "        print(f\"Epoch {epoch+1} Loss: {loss.item()}\")\n",
    "        progress_bar.set_postfix(loss=loss.item())\n",
    "\n",
    "\n",
    "        avg_train_loss = epoch_loss / len(train_tokenized)\n",
    "        train_losses.append(avg_train_loss)\n",
    "        print(f\"Loss after epoch {epoch+1}: {avg_train_loss}\")\n",
    "        # Calculate elapsed time and estimated time remaining\n",
    "        elapsed_time = time.time() - start_time\n",
    "        avg_epoch_time = elapsed_time / (epoch + 1)  # Average time per epoch\n",
    "        remaining_epochs = num_epochs - (epoch + 1)\n",
    "        estimated_time_remaining = remaining_epochs * avg_epoch_time\n",
    "\n",
    "        print(f\"Elapsed time for epoch {epoch + 1}: {elapsed_time:.2f} seconds\")\n",
    "        print(f\"Estimated time remaining: {estimated_time_remaining:.2f} seconds\")\n",
    "\n",
    "\n",
    "    plt.plot(range(1, num_epochs + 1), train_losses, label=\"Training Loss\")\n",
    "    plt.xlabel(\"Epoch\")\n",
    "    plt.ylabel(\"Loss\")\n",
    "    plt.title(\"Training Loss Curve\")\n",
    "    plt.legend()\n",
    "    plt.show()\n",
    "\n",
    "    return model\n"
   ]
  },
  {
   "cell_type": "code",
   "execution_count": 201,
   "id": "bcbfd258-a034-4f71-9f6e-15b74d8d4365",
   "metadata": {},
   "outputs": [
    {
     "name": "stderr",
     "output_type": "stream",
     "text": [
      "C:\\Users\\prana\\AppData\\Local\\Temp\\ipykernel_21992\\2591978296.py:6: FutureWarning: `torch.cuda.amp.GradScaler(args...)` is deprecated. Please use `torch.amp.GradScaler('cuda', args...)` instead.\n",
      "  scaler = GradScaler()  # Mixed precision training\n"
     ]
    },
    {
     "name": "stdout",
     "output_type": "stream",
     "text": [
      "Epoch 1/20\n"
     ]
    },
    {
     "name": "stderr",
     "output_type": "stream",
     "text": [
      "Training Epoch 1: 100%|██████████████████████████████████████████████████████████████████████████| 8000/8000 [11:56<00:00, 11.17batch/s]\n"
     ]
    },
    {
     "name": "stdout",
     "output_type": "stream",
     "text": [
      "Epoch 1 Loss: 2.2235934734344482\n",
      "Loss after epoch 1: 2.4441120952181516\n",
      "Elapsed time for epoch 1: 716.40 seconds\n",
      "Estimated time remaining: 13611.54 seconds\n",
      "Epoch 2/20\n"
     ]
    },
    {
     "name": "stderr",
     "output_type": "stream",
     "text": [
      "Training Epoch 2: 100%|██████████████████████████████████████████████████████████████████████████| 8000/8000 [10:35<00:00, 12.59batch/s]\n"
     ]
    },
    {
     "name": "stdout",
     "output_type": "stream",
     "text": [
      "Epoch 2 Loss: 2.1373744010925293\n",
      "Loss after epoch 2: 2.2214866455085573\n",
      "Elapsed time for epoch 2: 635.32 seconds\n",
      "Estimated time remaining: 5717.85 seconds\n",
      "Epoch 3/20\n"
     ]
    },
    {
     "name": "stderr",
     "output_type": "stream",
     "text": [
      "Training Epoch 3: 100%|██████████████████████████████████████████████████████████████████████████| 8000/8000 [11:35<00:00, 11.50batch/s]\n"
     ]
    },
    {
     "name": "stdout",
     "output_type": "stream",
     "text": [
      "Epoch 3 Loss: 2.080268383026123\n",
      "Loss after epoch 3: 2.064987560963258\n",
      "Elapsed time for epoch 3: 695.76 seconds\n",
      "Estimated time remaining: 3942.62 seconds\n",
      "Epoch 4/20\n"
     ]
    },
    {
     "name": "stderr",
     "output_type": "stream",
     "text": [
      "Training Epoch 4: 100%|██████████████████████████████████████████████████████████████████████████| 8000/8000 [11:47<00:00, 11.31batch/s]\n"
     ]
    },
    {
     "name": "stdout",
     "output_type": "stream",
     "text": [
      "Epoch 4 Loss: 2.220987319946289\n",
      "Loss after epoch 4: 1.9343292315141298\n",
      "Elapsed time for epoch 4: 707.22 seconds\n",
      "Estimated time remaining: 2828.89 seconds\n",
      "Epoch 5/20\n"
     ]
    },
    {
     "name": "stderr",
     "output_type": "stream",
     "text": [
      "Training Epoch 5: 100%|██████████████████████████████████████████████████████████████████████████| 8000/8000 [11:58<00:00, 11.14batch/s]\n"
     ]
    },
    {
     "name": "stdout",
     "output_type": "stream",
     "text": [
      "Epoch 5 Loss: 1.8656299114227295\n",
      "Loss after epoch 5: 1.807684188850457\n",
      "Elapsed time for epoch 5: 718.45 seconds\n",
      "Estimated time remaining: 2155.34 seconds\n",
      "Epoch 6/20\n"
     ]
    },
    {
     "name": "stderr",
     "output_type": "stream",
     "text": [
      "Training Epoch 6: 100%|██████████████████████████████████████████████████████████████████████████| 8000/8000 [12:12<00:00, 10.92batch/s]\n"
     ]
    },
    {
     "name": "stdout",
     "output_type": "stream",
     "text": [
      "Epoch 6 Loss: 1.5148591995239258\n",
      "Loss after epoch 6: 1.7046390598905272\n",
      "Elapsed time for epoch 6: 732.49 seconds\n",
      "Estimated time remaining: 1709.15 seconds\n",
      "Epoch 7/20\n"
     ]
    },
    {
     "name": "stderr",
     "output_type": "stream",
     "text": [
      "Training Epoch 7: 100%|██████████████████████████████████████████████████████████████████████████| 8000/8000 [13:05<00:00, 10.19batch/s]\n"
     ]
    },
    {
     "name": "stdout",
     "output_type": "stream",
     "text": [
      "Epoch 7 Loss: 1.6615461111068726\n",
      "Loss after epoch 7: 1.6037541852951982\n",
      "Elapsed time for epoch 7: 785.14 seconds\n",
      "Estimated time remaining: 1458.12 seconds\n",
      "Epoch 8/20\n"
     ]
    },
    {
     "name": "stderr",
     "output_type": "stream",
     "text": [
      "Training Epoch 8: 100%|██████████████████████████████████████████████████████████████████████████| 8000/8000 [12:18<00:00, 10.83batch/s]\n"
     ]
    },
    {
     "name": "stdout",
     "output_type": "stream",
     "text": [
      "Epoch 8 Loss: 1.313742995262146\n",
      "Loss after epoch 8: 1.5088798827963184\n",
      "Elapsed time for epoch 8: 738.51 seconds\n",
      "Estimated time remaining: 1107.76 seconds\n",
      "Epoch 9/20\n"
     ]
    },
    {
     "name": "stderr",
     "output_type": "stream",
     "text": [
      "Training Epoch 9: 100%|██████████████████████████████████████████████████████████████████████████| 8000/8000 [11:42<00:00, 11.38batch/s]\n"
     ]
    },
    {
     "name": "stdout",
     "output_type": "stream",
     "text": [
      "Epoch 9 Loss: 1.2784250974655151\n",
      "Loss after epoch 9: 1.416005802649539\n",
      "Elapsed time for epoch 9: 702.84 seconds\n",
      "Estimated time remaining: 859.03 seconds\n",
      "Epoch 10/20\n"
     ]
    },
    {
     "name": "stderr",
     "output_type": "stream",
     "text": [
      "Training Epoch 10: 100%|█████████████████████████████████████████████████████████████████████████| 8000/8000 [11:42<00:00, 11.39batch/s]\n"
     ]
    },
    {
     "name": "stdout",
     "output_type": "stream",
     "text": [
      "Epoch 10 Loss: 1.1161227226257324\n",
      "Loss after epoch 10: 1.3310367830712349\n",
      "Elapsed time for epoch 10: 702.36 seconds\n",
      "Estimated time remaining: 702.36 seconds\n",
      "Epoch 11/20\n"
     ]
    },
    {
     "name": "stderr",
     "output_type": "stream",
     "text": [
      "Training Epoch 11: 100%|█████████████████████████████████████████████████████████████████████████| 8000/8000 [11:42<00:00, 11.39batch/s]\n"
     ]
    },
    {
     "name": "stdout",
     "output_type": "stream",
     "text": [
      "Epoch 11 Loss: 0.979574978351593\n",
      "Loss after epoch 11: 1.252550454933662\n",
      "Elapsed time for epoch 11: 702.12 seconds\n",
      "Estimated time remaining: 574.46 seconds\n",
      "Epoch 12/20\n"
     ]
    },
    {
     "name": "stderr",
     "output_type": "stream",
     "text": [
      "Training Epoch 12: 100%|█████████████████████████████████████████████████████████████████████████| 8000/8000 [11:40<00:00, 11.43batch/s]\n"
     ]
    },
    {
     "name": "stdout",
     "output_type": "stream",
     "text": [
      "Epoch 12 Loss: 1.0980111360549927\n",
      "Loss after epoch 12: 1.1776074234867702\n",
      "Elapsed time for epoch 12: 700.19 seconds\n",
      "Estimated time remaining: 466.79 seconds\n",
      "Epoch 13/20\n"
     ]
    },
    {
     "name": "stderr",
     "output_type": "stream",
     "text": [
      "Training Epoch 13: 100%|█████████████████████████████████████████████████████████████████████████| 8000/8000 [11:44<00:00, 11.36batch/s]\n"
     ]
    },
    {
     "name": "stdout",
     "output_type": "stream",
     "text": [
      "Epoch 13 Loss: 0.8499667644500732\n",
      "Loss after epoch 13: 1.1050195073384674\n",
      "Elapsed time for epoch 13: 704.23 seconds\n",
      "Estimated time remaining: 379.20 seconds\n",
      "Epoch 14/20\n"
     ]
    },
    {
     "name": "stderr",
     "output_type": "stream",
     "text": [
      "Training Epoch 14: 100%|█████████████████████████████████████████████████████████████████████████| 8000/8000 [11:40<00:00, 11.42batch/s]\n"
     ]
    },
    {
     "name": "stdout",
     "output_type": "stream",
     "text": [
      "Epoch 14 Loss: 0.8066020011901855\n",
      "Loss after epoch 14: 1.040686682184867\n",
      "Elapsed time for epoch 14: 700.35 seconds\n",
      "Estimated time remaining: 300.15 seconds\n",
      "Epoch 15/20\n"
     ]
    },
    {
     "name": "stderr",
     "output_type": "stream",
     "text": [
      "Training Epoch 15: 100%|█████████████████████████████████████████████████████████████████████████| 8000/8000 [11:40<00:00, 11.42batch/s]\n"
     ]
    },
    {
     "name": "stdout",
     "output_type": "stream",
     "text": [
      "Epoch 15 Loss: 0.8611900210380554\n",
      "Loss after epoch 15: 0.9757122158333077\n",
      "Elapsed time for epoch 15: 700.74 seconds\n",
      "Estimated time remaining: 233.58 seconds\n",
      "Epoch 16/20\n"
     ]
    },
    {
     "name": "stderr",
     "output_type": "stream",
     "text": [
      "Training Epoch 16: 100%|█████████████████████████████████████████████████████████████████████████| 8000/8000 [11:48<00:00, 11.29batch/s]\n"
     ]
    },
    {
     "name": "stdout",
     "output_type": "stream",
     "text": [
      "Epoch 16 Loss: 0.6061756610870361\n",
      "Loss after epoch 16: 0.9186560719710541\n",
      "Elapsed time for epoch 16: 708.69 seconds\n",
      "Estimated time remaining: 177.17 seconds\n",
      "Epoch 17/20\n"
     ]
    },
    {
     "name": "stderr",
     "output_type": "stream",
     "text": [
      "Training Epoch 17: 100%|█████████████████████████████████████████████████████████████████████████| 8000/8000 [11:42<00:00, 11.39batch/s]\n"
     ]
    },
    {
     "name": "stdout",
     "output_type": "stream",
     "text": [
      "Epoch 17 Loss: 0.4931454062461853\n",
      "Loss after epoch 17: 0.8610144831293582\n",
      "Elapsed time for epoch 17: 702.64 seconds\n",
      "Estimated time remaining: 124.00 seconds\n",
      "Epoch 18/20\n"
     ]
    },
    {
     "name": "stderr",
     "output_type": "stream",
     "text": [
      "Training Epoch 18: 100%|█████████████████████████████████████████████████████████████████████████| 8000/8000 [11:45<00:00, 11.34batch/s]\n"
     ]
    },
    {
     "name": "stdout",
     "output_type": "stream",
     "text": [
      "Epoch 18 Loss: 0.574578046798706\n",
      "Loss after epoch 18: 0.8076073868221719\n",
      "Elapsed time for epoch 18: 705.67 seconds\n",
      "Estimated time remaining: 78.41 seconds\n",
      "Epoch 19/20\n"
     ]
    },
    {
     "name": "stderr",
     "output_type": "stream",
     "text": [
      "Training Epoch 19: 100%|█████████████████████████████████████████████████████████████████████████| 8000/8000 [11:44<00:00, 11.36batch/s]\n"
     ]
    },
    {
     "name": "stdout",
     "output_type": "stream",
     "text": [
      "Epoch 19 Loss: 0.35620877146720886\n",
      "Loss after epoch 19: 0.7636918633861278\n",
      "Elapsed time for epoch 19: 704.51 seconds\n",
      "Estimated time remaining: 37.08 seconds\n",
      "Epoch 20/20\n"
     ]
    },
    {
     "name": "stderr",
     "output_type": "stream",
     "text": [
      "Training Epoch 20: 100%|█████████████████████████████████████████████████████████████████████████| 8000/8000 [11:48<00:00, 11.28batch/s]"
     ]
    },
    {
     "name": "stdout",
     "output_type": "stream",
     "text": [
      "Epoch 20 Loss: 0.38897421956062317\n",
      "Loss after epoch 20: 0.712653878132347\n",
      "Elapsed time for epoch 20: 709.02 seconds\n",
      "Estimated time remaining: 0.00 seconds\n"
     ]
    },
    {
     "name": "stderr",
     "output_type": "stream",
     "text": [
      "\n"
     ]
    },
    {
     "data": {
      "image/png": "[encoded data removed]",
      "text/plain": [
       "<Figure size 640x480 with 1 Axes>"
      ]
     },
     "metadata": {},
     "output_type": "display_data"
    }
   ],
   "source": [
    "trained_model = train_model(train_tokenized, val_tokenized)"
   ]
  },
  {
   "cell_type": "code",
   "execution_count": 24,
   "id": "9ba2a5b5-1062-4f4a-b089-a200d3681628",
   "metadata": {},
   "outputs": [],
   "source": [
    "torch.cuda.empty_cache()"
   ]
  },
  {
   "cell_type": "code",
   "execution_count": 211,
   "id": "3af6ab14-ed33-421a-b73b-5ea5683ff894",
   "metadata": {},
   "outputs": [],
   "source": [
    "# Create a generation config\n",
    "generation_config = {\n",
    "    \"early_stopping\": True,\n",
    "    \"num_beams\": 4,\n",
    "    \"no_repeat_ngram_size\": 3,\n",
    "    \"forced_bos_token_id\": 0\n",
    "}\n",
    "\n",
    "# Update the model's configuration with the generation configuration\n",
    "trained_model.config.generation_config = generation_config\n",
    "\n",
    "# Save the model\n",
    "trained_model.save_pretrained(\"./bart_model_final\")"
   ]
  },
  {
   "cell_type": "code",
   "execution_count": 23,
   "id": "09f57224-ff76-40d9-ae73-dd856ccd0ab9",
   "metadata": {},
   "outputs": [],
   "source": [
    "# my trained model\n",
    "saved_model_path = \"./bart_model_final\" \n",
    "model = BartForConditionalGeneration.from_pretrained(saved_model_path).to(device)\n"
   ]
  },
  {
   "cell_type": "code",
   "execution_count": 25,
   "id": "8966482a-7829-4797-97e2-f4981a65d3d1",
   "metadata": {},
   "outputs": [],
   "source": [
    "model_name = \"facebook/bart-base\"\n",
    "tokenizer = BartTokenizer.from_pretrained(model_name)\n",
    "tokenizer.pad_token = tokenizer.eos_token"
   ]
  },
  {
   "cell_type": "code",
   "execution_count": 27,
   "id": "7f149772-fd9f-4d53-8e4e-58150b53d217",
   "metadata": {},
   "outputs": [
    {
     "name": "stderr",
     "output_type": "stream",
     "text": [
      "You are using the default legacy behaviour of the <class 'transformers.models.t5.tokenization_t5.T5Tokenizer'>. This is expected, and simply means that the `legacy` (previous) behavior will be used so nothing changes for you. If you want to use the new behaviour, set `legacy=False`. This should only be set if you understand what it means, and thoroughly read the reason why this was added as explained in https://github.com/huggingface/transformers/pull/24565\n"
     ]
    }
   ],
   "source": [
    "# Evaluate T5 model\n",
    "from transformers import T5Tokenizer, T5ForConditionalGeneration\n",
    "t5_tokenizer = T5Tokenizer.from_pretrained(\"t5-small\")\n",
    "t5_model = T5ForConditionalGeneration.from_pretrained(\"t5-small\").to(device)"
   ]
  },
  {
   "cell_type": "code",
   "execution_count": 226,
   "id": "5f1e6e63-2a7f-4b96-844d-f39af11391b8",
   "metadata": {},
   "outputs": [
    {
     "name": "stderr",
     "output_type": "stream",
     "text": [
      "Evaluating Model: 100%|███████████████████████████████████████████████████████████████████████████████| 125/125 [10:42<00:00,  5.14s/it]"
     ]
    },
    {
     "name": "stdout",
     "output_type": "stream",
     "text": [
      "Average ROUGE Scores: {'rouge1': 0.3299575843585844, 'rouge2': 0.12359658841023975, 'rougeL': 0.24225107185299596}\n"
     ]
    },
    {
     "name": "stderr",
     "output_type": "stream",
     "text": [
      "\n"
     ]
    }
   ],
   "source": [
    "# Step 5: Evaluate Model\n",
    "def evaluate_model(model, val_data, tokenizer, batch_size=16):\n",
    "    scorer = rouge_scorer.RougeScorer([\"rouge1\", \"rouge2\", \"rougeL\"], use_stemmer=True)\n",
    "    scores = []\n",
    "    \n",
    "    model.eval()  # Set the model to evaluation mode\n",
    "    total_samples = len(val_data)\n",
    "\n",
    "    with torch.no_grad():  # Disable gradient calculation\n",
    "        for i in tqdm(range(0, total_samples, batch_size), desc=\"Evaluating Model\"):\n",
    "            batch = val_data[i:i + batch_size]\n",
    "            inputs = tokenizer([example['text'] for example in batch], return_tensors=\"pt\", max_length=1024,padding=True, truncation=True).to(device)\n",
    "            summary_ids = model.generate(inputs['input_ids'], max_length=128, num_beams=4, early_stopping=True)\n",
    "            generated_summaries = tokenizer.batch_decode(summary_ids, skip_special_tokens=True)\n",
    "\n",
    "            for j, example in enumerate(batch):\n",
    "                rouge = scorer.score(example['summary'], generated_summaries[j])\n",
    "                scores.append(rouge)\n",
    "\n",
    "    avg_scores = {metric: sum([s[metric].fmeasure for s in scores]) / len(scores) for metric in scores[0]}\n",
    "    print(\"Average ROUGE Scores:\", avg_scores)\n",
    "    return avg_scores\n",
    "\n",
    "# Assuming you have your trained model and validation data ready\n",
    "avg_rouge_scores = evaluate_model(trained_model, val_data, tokenizer)"
   ]
  },
  {
   "cell_type": "code",
   "execution_count": 26,
   "id": "0262c076-dbb8-45df-8738-ee18dad9c427",
   "metadata": {},
   "outputs": [
    {
     "name": "stdout",
     "output_type": "stream",
     "text": [
      "\n",
      "Evaluating T5 Model\n"
     ]
    },
    {
     "name": "stderr",
     "output_type": "stream",
     "text": [
      "Evaluating Model:   0%|                                                                          | 0/4 [00:00<?, ?it/s]Both `max_new_tokens` (=256) and `max_length`(=512) seem to have been set. `max_new_tokens` will take precedence. Please refer to the documentation for more information. (https://huggingface.co/docs/transformers/main/en/main_classes/text_generation)\n",
      "Evaluating Model:  25%|████████████████▌                                                 | 1/4 [00:03<00:11,  3.91s/it]Both `max_new_tokens` (=256) and `max_length`(=512) seem to have been set. `max_new_tokens` will take precedence. Please refer to the documentation for more information. (https://huggingface.co/docs/transformers/main/en/main_classes/text_generation)\n",
      "Evaluating Model:  50%|█████████████████████████████████                                 | 2/4 [00:07<00:07,  3.85s/it]Both `max_new_tokens` (=256) and `max_length`(=512) seem to have been set. `max_new_tokens` will take precedence. Please refer to the documentation for more information. (https://huggingface.co/docs/transformers/main/en/main_classes/text_generation)\n",
      "Evaluating Model:  75%|█████████████████████████████████████████████████▌                | 3/4 [00:10<00:03,  3.49s/it]Both `max_new_tokens` (=256) and `max_length`(=512) seem to have been set. `max_new_tokens` will take precedence. Please refer to the documentation for more information. (https://huggingface.co/docs/transformers/main/en/main_classes/text_generation)\n",
      "Evaluating Model: 100%|██████████████████████████████████████████████████████████████████| 4/4 [00:14<00:00,  3.57s/it]"
     ]
    },
    {
     "name": "stdout",
     "output_type": "stream",
     "text": [
      "Average ROUGE Scores: {'rouge1': 0.18600446527625358, 'rouge2': 0.021525739041356653, 'rougeL': 0.12749502398716525}\n"
     ]
    },
    {
     "name": "stderr",
     "output_type": "stream",
     "text": [
      "\n"
     ]
    }
   ],
   "source": [
    "print(\"\\nEvaluating T5 Model\")\n",
    "t5_avg_scores = evaluate_model(t5_model, val_data, t5_tokenizer)\n"
   ]
  },
  {
   "cell_type": "code",
   "execution_count": 29,
   "id": "1e41db1e-6c6f-419c-870b-82b665041e56",
   "metadata": {},
   "outputs": [],
   "source": [
    "def generate_summary(model, tokenizer, text):\n",
    "    # Tokenize the input text\n",
    "    inputs = tokenizer(text, return_tensors=\"pt\", max_length=1024, truncation=True).to(device)\n",
    "    attention_mask = inputs['attention_mask']  # Get the attention mask\n",
    "    summary_ids = model.generate(inputs['input_ids'], attention_mask=attention_mask, max_length=1024, num_beams=5, early_stopping=True)\n",
    "    summary = tokenizer.decode(summary_ids[0], skip_special_tokens=True)\n",
    "    return summary"
   ]
  },
  {
   "cell_type": "code",
   "execution_count": 31,
   "id": "03e06c55-28eb-4f03-ad65-3bc7e5d4a153",
   "metadata": {},
   "outputs": [],
   "source": [
    "import spacy\n",
    "\n",
    "# Load the SpaCy model\n",
    "nlp = spacy.load(\"en_core_web_sm\")"
   ]
  },
  {
   "cell_type": "code",
   "execution_count": 32,
   "id": "ff5dfc8a-e9b5-42f3-a7b2-f0b62914e82b",
   "metadata": {},
   "outputs": [],
   "source": [
    "from spacy import displacy\n",
    "\n",
    "def visualize_ner(text):\n",
    "    # Process the text with SpaCy\n",
    "    doc = nlp(text)\n",
    "    \n",
    "    # Visualize the entities\n",
    "    displacy.render(doc, style=\"ent\", jupyter=True)"
   ]
  },
  {
   "cell_type": "code",
   "execution_count": 33,
   "id": "1d7c90e6-9579-46fb-9458-23b7f635a73a",
   "metadata": {},
   "outputs": [
    {
     "name": "stdin",
     "output_type": "stream",
     "text": [
      "Enter text to summarize:  Before modern electromagnetic motors, experimental motors that worked by electrostatic force were investigated. The first electric motors were simple electrostatic devices described in experiments by Scottish monk Andrew Gordon and American experimenter Benjamin Franklin in the 1740s.[2][3] The theoretical principle behind them, Coulomb's law, was discovered but not published, by Henry Cavendish in 1771. This law was discovered independently by Charles-Augustin de Coulomb in 1785, who published it so that it is now known by his name.[4] Due to the difficulty of generating the high voltages they required, electrostatic motors were never used for practical purposes.  The invention of the electrochemical battery by Alessandro Volta in 1799[5] made possible the production of persistent electric currents. Hans Christian Ørsted discovered in 1820 that an electric current creates a magnetic field, which can exert a force on a magnet. It only took a few weeks for André-Marie Ampère to develop the first formulation of the electromagnetic interaction and present the Ampère's force law, that described the production of mechanical force by the interaction of an electric current and a magnetic field.[6]  Michael Faraday gave the first demonstration of the effect with a rotary motion on 3 September 1821 in the basement of the Royal Institution.[7] A free-hanging wire was dipped into a pool of mercury, on which a permanent magnet (PM) was placed. When a current was passed through the wire, the wire rotated around the magnet, showing that the current gave rise to a close circular magnetic field around the wire.[8] Faraday published the results of his discovery in the Quarterly Journal of Science, and sent copies of his paper along with pocket-sized models of his device to colleagues around the world so they could also witness the phenomenon of electromagnetic rotations.[7] This motor is often demonstrated in physics experiments, substituting brine for (toxic) mercury. Barlow's wheel was an early refinement to this Faraday demonstration, although these and similar homopolar motors remained unsuited to practical application until late in the century.\n"
     ]
    },
    {
     "data": {
      "text/html": [
       "<span class=\"tex2jax_ignore\"><div class=\"entities\" style=\"line-height: 2.5; direction: ltr\">Before modern electromagnetic motors, experimental motors that worked by electrostatic force were investigated. The \n",
       "<mark class=\"entity\" style=\"background: #e4e7d2; padding: 0.45em 0.6em; margin: 0 0.25em; line-height: 1; border-radius: 0.35em;\">\n",
       "    first\n",
       "    <span style=\"font-size: 0.8em; font-weight: bold; line-height: 1; border-radius: 0.35em; vertical-align: middle; margin-left: 0.5rem\">ORDINAL</span>\n",
       "</mark>\n",
       " electric motors were simple electrostatic devices described in experiments by \n",
       "<mark class=\"entity\" style=\"background: #c887fb; padding: 0.45em 0.6em; margin: 0 0.25em; line-height: 1; border-radius: 0.35em;\">\n",
       "    Scottish\n",
       "    <span style=\"font-size: 0.8em; font-weight: bold; line-height: 1; border-radius: 0.35em; vertical-align: middle; margin-left: 0.5rem\">NORP</span>\n",
       "</mark>\n",
       " monk \n",
       "<mark class=\"entity\" style=\"background: #aa9cfc; padding: 0.45em 0.6em; margin: 0 0.25em; line-height: 1; border-radius: 0.35em;\">\n",
       "    Andrew Gordon\n",
       "    <span style=\"font-size: 0.8em; font-weight: bold; line-height: 1; border-radius: 0.35em; vertical-align: middle; margin-left: 0.5rem\">PERSON</span>\n",
       "</mark>\n",
       " and \n",
       "<mark class=\"entity\" style=\"background: #c887fb; padding: 0.45em 0.6em; margin: 0 0.25em; line-height: 1; border-radius: 0.35em;\">\n",
       "    American\n",
       "    <span style=\"font-size: 0.8em; font-weight: bold; line-height: 1; border-radius: 0.35em; vertical-align: middle; margin-left: 0.5rem\">NORP</span>\n",
       "</mark>\n",
       " experimenter \n",
       "<mark class=\"entity\" style=\"background: #aa9cfc; padding: 0.45em 0.6em; margin: 0 0.25em; line-height: 1; border-radius: 0.35em;\">\n",
       "    Benjamin Franklin\n",
       "    <span style=\"font-size: 0.8em; font-weight: bold; line-height: 1; border-radius: 0.35em; vertical-align: middle; margin-left: 0.5rem\">PERSON</span>\n",
       "</mark>\n",
       " in the 1740s.[2][3] The theoretical principle behind them, \n",
       "<mark class=\"entity\" style=\"background: #aa9cfc; padding: 0.45em 0.6em; margin: 0 0.25em; line-height: 1; border-radius: 0.35em;\">\n",
       "    Coulomb\n",
       "    <span style=\"font-size: 0.8em; font-weight: bold; line-height: 1; border-radius: 0.35em; vertical-align: middle; margin-left: 0.5rem\">PERSON</span>\n",
       "</mark>\n",
       "'s law, was discovered but not published, by \n",
       "<mark class=\"entity\" style=\"background: #aa9cfc; padding: 0.45em 0.6em; margin: 0 0.25em; line-height: 1; border-radius: 0.35em;\">\n",
       "    Henry Cavendish\n",
       "    <span style=\"font-size: 0.8em; font-weight: bold; line-height: 1; border-radius: 0.35em; vertical-align: middle; margin-left: 0.5rem\">PERSON</span>\n",
       "</mark>\n",
       " in \n",
       "<mark class=\"entity\" style=\"background: #bfe1d9; padding: 0.45em 0.6em; margin: 0 0.25em; line-height: 1; border-radius: 0.35em;\">\n",
       "    1771\n",
       "    <span style=\"font-size: 0.8em; font-weight: bold; line-height: 1; border-radius: 0.35em; vertical-align: middle; margin-left: 0.5rem\">DATE</span>\n",
       "</mark>\n",
       ". This law was discovered independently by \n",
       "<mark class=\"entity\" style=\"background: #aa9cfc; padding: 0.45em 0.6em; margin: 0 0.25em; line-height: 1; border-radius: 0.35em;\">\n",
       "    Charles-Augustin de Coulomb\n",
       "    <span style=\"font-size: 0.8em; font-weight: bold; line-height: 1; border-radius: 0.35em; vertical-align: middle; margin-left: 0.5rem\">PERSON</span>\n",
       "</mark>\n",
       " in \n",
       "<mark class=\"entity\" style=\"background: #bfe1d9; padding: 0.45em 0.6em; margin: 0 0.25em; line-height: 1; border-radius: 0.35em;\">\n",
       "    1785\n",
       "    <span style=\"font-size: 0.8em; font-weight: bold; line-height: 1; border-radius: 0.35em; vertical-align: middle; margin-left: 0.5rem\">DATE</span>\n",
       "</mark>\n",
       ", who published it so that it is now known by his name.[4] Due to the difficulty of generating the high voltages they required, electrostatic motors were never used for practical purposes.  The invention of the electrochemical battery by \n",
       "<mark class=\"entity\" style=\"background: #7aecec; padding: 0.45em 0.6em; margin: 0 0.25em; line-height: 1; border-radius: 0.35em;\">\n",
       "    Alessandro Volta\n",
       "    <span style=\"font-size: 0.8em; font-weight: bold; line-height: 1; border-radius: 0.35em; vertical-align: middle; margin-left: 0.5rem\">ORG</span>\n",
       "</mark>\n",
       " in 1799[5] made possible the production of persistent electric currents. \n",
       "<mark class=\"entity\" style=\"background: #aa9cfc; padding: 0.45em 0.6em; margin: 0 0.25em; line-height: 1; border-radius: 0.35em;\">\n",
       "    Hans Christian Ørsted\n",
       "    <span style=\"font-size: 0.8em; font-weight: bold; line-height: 1; border-radius: 0.35em; vertical-align: middle; margin-left: 0.5rem\">PERSON</span>\n",
       "</mark>\n",
       " discovered in \n",
       "<mark class=\"entity\" style=\"background: #bfe1d9; padding: 0.45em 0.6em; margin: 0 0.25em; line-height: 1; border-radius: 0.35em;\">\n",
       "    1820\n",
       "    <span style=\"font-size: 0.8em; font-weight: bold; line-height: 1; border-radius: 0.35em; vertical-align: middle; margin-left: 0.5rem\">DATE</span>\n",
       "</mark>\n",
       " that an electric current creates a magnetic field, which can exert a force on a magnet. It only took \n",
       "<mark class=\"entity\" style=\"background: #bfe1d9; padding: 0.45em 0.6em; margin: 0 0.25em; line-height: 1; border-radius: 0.35em;\">\n",
       "    a few weeks\n",
       "    <span style=\"font-size: 0.8em; font-weight: bold; line-height: 1; border-radius: 0.35em; vertical-align: middle; margin-left: 0.5rem\">DATE</span>\n",
       "</mark>\n",
       " for \n",
       "<mark class=\"entity\" style=\"background: #7aecec; padding: 0.45em 0.6em; margin: 0 0.25em; line-height: 1; border-radius: 0.35em;\">\n",
       "    André-Marie Ampère\n",
       "    <span style=\"font-size: 0.8em; font-weight: bold; line-height: 1; border-radius: 0.35em; vertical-align: middle; margin-left: 0.5rem\">ORG</span>\n",
       "</mark>\n",
       " to develop the \n",
       "<mark class=\"entity\" style=\"background: #e4e7d2; padding: 0.45em 0.6em; margin: 0 0.25em; line-height: 1; border-radius: 0.35em;\">\n",
       "    first\n",
       "    <span style=\"font-size: 0.8em; font-weight: bold; line-height: 1; border-radius: 0.35em; vertical-align: middle; margin-left: 0.5rem\">ORDINAL</span>\n",
       "</mark>\n",
       " formulation of the electromagnetic interaction and present the \n",
       "<mark class=\"entity\" style=\"background: #ff9561; padding: 0.45em 0.6em; margin: 0 0.25em; line-height: 1; border-radius: 0.35em;\">\n",
       "    Ampère\n",
       "    <span style=\"font-size: 0.8em; font-weight: bold; line-height: 1; border-radius: 0.35em; vertical-align: middle; margin-left: 0.5rem\">LOC</span>\n",
       "</mark>\n",
       "'s force law, that described the production of mechanical force by the interaction of an electric current and a magnetic field.[6]  \n",
       "<mark class=\"entity\" style=\"background: #aa9cfc; padding: 0.45em 0.6em; margin: 0 0.25em; line-height: 1; border-radius: 0.35em;\">\n",
       "    Michael Faraday\n",
       "    <span style=\"font-size: 0.8em; font-weight: bold; line-height: 1; border-radius: 0.35em; vertical-align: middle; margin-left: 0.5rem\">PERSON</span>\n",
       "</mark>\n",
       " gave the \n",
       "<mark class=\"entity\" style=\"background: #e4e7d2; padding: 0.45em 0.6em; margin: 0 0.25em; line-height: 1; border-radius: 0.35em;\">\n",
       "    first\n",
       "    <span style=\"font-size: 0.8em; font-weight: bold; line-height: 1; border-radius: 0.35em; vertical-align: middle; margin-left: 0.5rem\">ORDINAL</span>\n",
       "</mark>\n",
       " demonstration of the effect with a rotary motion on \n",
       "<mark class=\"entity\" style=\"background: #bfe1d9; padding: 0.45em 0.6em; margin: 0 0.25em; line-height: 1; border-radius: 0.35em;\">\n",
       "    3 September 1821\n",
       "    <span style=\"font-size: 0.8em; font-weight: bold; line-height: 1; border-radius: 0.35em; vertical-align: middle; margin-left: 0.5rem\">DATE</span>\n",
       "</mark>\n",
       " in the basement of the Royal Institution.[7] A free-hanging wire was dipped into a pool of mercury, on which a permanent magnet (PM) was placed. When a current was passed through the wire, the wire rotated around the magnet, showing that the current gave rise to a close circular magnetic field around the wire.[8] \n",
       "<mark class=\"entity\" style=\"background: #aa9cfc; padding: 0.45em 0.6em; margin: 0 0.25em; line-height: 1; border-radius: 0.35em;\">\n",
       "    Faraday\n",
       "    <span style=\"font-size: 0.8em; font-weight: bold; line-height: 1; border-radius: 0.35em; vertical-align: middle; margin-left: 0.5rem\">PERSON</span>\n",
       "</mark>\n",
       " published the results of his discovery in \n",
       "<mark class=\"entity\" style=\"background: #7aecec; padding: 0.45em 0.6em; margin: 0 0.25em; line-height: 1; border-radius: 0.35em;\">\n",
       "    the Quarterly Journal of Science\n",
       "    <span style=\"font-size: 0.8em; font-weight: bold; line-height: 1; border-radius: 0.35em; vertical-align: middle; margin-left: 0.5rem\">ORG</span>\n",
       "</mark>\n",
       ", and sent copies of his paper along with pocket-sized models of his device to colleagues around the world so they could also witness the phenomenon of electromagnetic rotations.[7] This motor is often demonstrated in physics experiments, substituting brine for (toxic) mercury. \n",
       "<mark class=\"entity\" style=\"background: #aa9cfc; padding: 0.45em 0.6em; margin: 0 0.25em; line-height: 1; border-radius: 0.35em;\">\n",
       "    Barlow\n",
       "    <span style=\"font-size: 0.8em; font-weight: bold; line-height: 1; border-radius: 0.35em; vertical-align: middle; margin-left: 0.5rem\">PERSON</span>\n",
       "</mark>\n",
       "'s wheel was an early refinement to this \n",
       "<mark class=\"entity\" style=\"background: #bfe1d9; padding: 0.45em 0.6em; margin: 0 0.25em; line-height: 1; border-radius: 0.35em;\">\n",
       "    Faraday\n",
       "    <span style=\"font-size: 0.8em; font-weight: bold; line-height: 1; border-radius: 0.35em; vertical-align: middle; margin-left: 0.5rem\">DATE</span>\n",
       "</mark>\n",
       " demonstration, although these and similar homopolar motors remained unsuited to practical application until \n",
       "<mark class=\"entity\" style=\"background: #bfe1d9; padding: 0.45em 0.6em; margin: 0 0.25em; line-height: 1; border-radius: 0.35em;\">\n",
       "    late in the century\n",
       "    <span style=\"font-size: 0.8em; font-weight: bold; line-height: 1; border-radius: 0.35em; vertical-align: middle; margin-left: 0.5rem\">DATE</span>\n",
       "</mark>\n",
       ".</div></span>"
      ],
      "text/plain": [
       "<IPython.core.display.HTML object>"
      ]
     },
     "metadata": {},
     "output_type": "display_data"
    },
    {
     "name": "stdout",
     "output_type": "stream",
     "text": [
      "\n",
      "\n",
      "Generated Summary: The first electrostatic motors were discovered by Benjamin Franklin and Charles-Augustin de Coulomb . Coulomb's law allowed the production of persistent electric currents . The first electrochemical devices were invented by Alessandro Volta in 1799 .\n",
      "\n",
      "\n",
      "Generated Summary from T5 Small Model: the first electric motors were simple electrostatic devices described in experiments by monk Andrew Gordon and american experimenter Benjamin Franklin in the 1740s. the theory behind them, Coulomb's law, was discovered but not published, by Henry Cavendish in 1771. the invention of the electrochemical battery by Alessandro Volta in 1799 made possible the production of persistent electric currents.\n"
     ]
    }
   ],
   "source": [
    "example_text = input(\"Enter text to summarize: \")\n",
    "visualize_ner(example_text)\n",
    "print('\\n')\n",
    "generated_summary = generate_summary(model, tokenizer, example_text)\n",
    "print(\"Generated Summary:\", generated_summary)\n",
    "print('\\n')\n",
    "# Generate summary using T5 small\n",
    "t5_input = t5_tokenizer(\"summarize: \" + example_text, return_tensors=\"pt\", max_length=512, truncation=True).to(device)\n",
    "t5_output = t5_model.generate(t5_input['input_ids'], max_length=512, num_beams=4, early_stopping=True)\n",
    "t5_summary = t5_tokenizer.decode(t5_output[0], skip_special_tokens=True)\n",
    "print(\"Generated Summary from T5 Small Model:\", t5_summary)\n"
   ]
  },
  {
   "cell_type": "code",
   "execution_count": null,
   "id": "e9dcc62c-3541-45c2-bcd3-82a68e778588",
   "metadata": {},
   "outputs": [],
   "source": []
  }
 ],
 "metadata": {
  "kernelspec": {
   "display_name": "Python 3 (ipykernel)",
   "language": "python",
   "name": "python3"
  },
  "language_info": {
   "codemirror_mode": {
    "name": "ipython",
    "version": 3
   },
   "file_extension": ".py",
   "mimetype": "text/x-python",
   "name": "python",
   "nbconvert_exporter": "python",
   "pygments_lexer": "ipython3",
   "version": "3.12.4"
  }
 },
 "nbformat": 4,
 "nbformat_minor": 5
}
